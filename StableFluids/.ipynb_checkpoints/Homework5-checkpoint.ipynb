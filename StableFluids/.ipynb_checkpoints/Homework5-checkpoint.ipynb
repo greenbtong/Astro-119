{
 "cells": [
  {
   "cell_type": "markdown",
   "metadata": {},
   "source": [
    "# Intro to Scientific Computing\n",
    "\n",
    "${\\bf Problem \\,Set\\, 5}$\n",
    "\n",
    "NAME: Brian Tong\n",
    "\n",
    "DATE: March 17,2016\n",
    "\n",
    "To hand in your homework, please submit your completed iPython notebook  before 5PM on the last day of Finals: \n",
    "${\\bf Thursday, \\,March\\, 17}$"
   ]
  },
  {
   "cell_type": "markdown",
   "metadata": {},
   "source": [
    "# 1) Stable Fluids\n",
    "\n",
    "In this problem, we'll make some modifications to the stable fluids code that was constructed during class, and which is available on eCommons. \n",
    "\n"
   ]
  },
  {
   "cell_type": "markdown",
   "metadata": {},
   "source": [
    "The following function \"SolveBanded\" takes as input an NxN matrix \"A\" (a numpy array), and a vector \"D\" (a 1-D array) of length N. The matrix \"A\" should be in band-diagonal form. It returns the the solution to the matrix problem,\n",
    "${\\bf A} \\cdot {\\bf x}={\\bf D}$,\n",
    "with the solution x being returned.\n",
    "\n",
    "The function repacks the input array into a compact form that takes advantage of the fact that the input array is zeros away from the diagonal. It uses the sparse matrix technology provided by scipy's linear algebra packag, \"linalg\"."
   ]
  },
  {
   "cell_type": "code",
   "execution_count": 2,
   "metadata": {
    "collapsed": false
   },
   "outputs": [],
   "source": [
    "from scipy.linalg import solve_banded\n",
    "from numpy import *\n",
    " \n",
    "def SolveBanded(A, D):\n",
    "    # Find the diagonals\n",
    "    ud = insert(diag(A,1), 0, 0) # upper diagonal\n",
    "    d = diag(A) # main diagonal\n",
    "    ld = insert(diag(A,-1), len(d)-1, 0) # lower diagonal\n",
    " \n",
    "    # simplified matrix\n",
    "    ab = matrix([\n",
    "        ud,\n",
    "        d,\n",
    "        ld,\n",
    "    ])\n",
    " \n",
    "    return solve_banded((1, 1), ab, D )\n",
    " "
   ]
  },
  {
   "cell_type": "markdown",
   "metadata": {},
   "source": [
    "Verify that you can obtain a matrix solution using SolveBanded for the following band-diagonal problem:"
   ]
  },
  {
   "cell_type": "code",
   "execution_count": 3,
   "metadata": {
    "collapsed": false
   },
   "outputs": [
    {
     "name": "stdout",
     "output_type": "stream",
     "text": [
      "[ 64.25531915  37.0212766   26.80851064  23.40425532]\n",
      "SolveBanded function works\n"
     ]
    }
   ],
   "source": [
    "A=array([\n",
    "        [20, -5,  0,  0],\n",
    "        [-5, 15, -5,  0],\n",
    "        [ 0, -5, 15, -5],\n",
    "        [ 0,  0, -5, 10]\n",
    "        ])\n",
    "           \n",
    "B=array([1100, 100, 100, 100])\n",
    "\n",
    "print SolveBanded(A, B)\n",
    "print \"SolveBanded function works\""
   ]
  },
  {
   "cell_type": "markdown",
   "metadata": {},
   "source": [
    "For extra \"cred\", Using the \"SolveBanded\" function, replace the explicit solutions to the x- and y- direction velocity and density diffusions with implicit solutions, using the implicit differencing scheme described in class. Verify that the code gives a comparable result for the random density test problem to which it is currently set (run at 50x50 resolution)."
   ]
  },
  {
   "cell_type": "code",
   "execution_count": null,
   "metadata": {
    "collapsed": false
   },
   "outputs": [],
   "source": []
  },
  {
   "cell_type": "markdown",
   "metadata": {},
   "source": [
    "Returning to the version of the code on the web, and using 100x100 resolution, set up and run a simulation in which a centrally located circular patch of high-density fluid ($\\,\\rho=0.75$) is placed in a surrounding region of low-density fluid ($\\,\\rho=0.25$). (The initial velocity perturbation can remain unchanged). Paste the code block that sets up this initial condition into the cell below:"
   ]
  },
  {
   "cell_type": "code",
   "execution_count": 104,
   "metadata": {
    "collapsed": false
   },
   "outputs": [
    {
     "name": "stdout",
     "output_type": "stream",
     "text": [
      "timestep for velocity diffusion 1000.0\n",
      "timestep for accurate advection 5.05242836528\n",
      "initial timestep 5.05242836528\n"
     ]
    },
    {
     "data": {
      "text/plain": [
       "<matplotlib.image.AxesImage at 0x18c11f28>"
      ]
     },
     "execution_count": 104,
     "metadata": {},
     "output_type": "execute_result"
    },
    {
     "data": {
      "image/png": "[encoded data removed]",
      "text/plain": [
       "<matplotlib.figure.Figure at 0x1628f3c8>"
      ]
     },
     "metadata": {},
     "output_type": "display_data"
    }
   ],
   "source": [
    "from numpy import *\n",
    "%matplotlib inline\n",
    "from matplotlib.pyplot import *\n",
    "from scipy import ndimage\n",
    "\n",
    "#define periodic boundary condition\n",
    "def wrap(x):\n",
    "    for i in arange(1,nx-1):\n",
    "        x[i,0]=x[i,ny-2]\n",
    "        x[i,ny-1]=x[i,1]\n",
    "    for j in arange(1,ny-1):\n",
    "        x[0,j]=x[nx-2,j]\n",
    "        x[nx-1,j]=x[1,j]\n",
    "    return(x)\n",
    "\n",
    "#define zero-gradient boundary condition\n",
    "def zerog(x):\n",
    "    for i in arange(1,nx-1):\n",
    "        x[i,0]=x[i,1]\n",
    "        x[i,ny-1]=x[i,ny-2]\n",
    "    for j in arange(1,ny-1):\n",
    "        x[0,j]=x[1,j]\n",
    "        x[nx-1,j]=x[nx-2,j]\n",
    "    return(x)\n",
    "\n",
    "#projection step\n",
    "def project(vxo,vyo):\n",
    "    div=ones((nx,ny))\n",
    "\n",
    "    #compute velocity divergance\n",
    "    for i in arange(1,nx-1):\n",
    "        for j in arange(1,ny-1):\n",
    "            div[i,j]=h*(vxo[i+1,j]-vxo[i-1,j]\\\n",
    "                   +    vyo[i,j+1]-vyo[i,j-1])\n",
    "        \n",
    "    #solve Poisson Equation for q using Gauss-Seidel\n",
    "    q=zeros((nx,ny))\n",
    "    for k in arange(1,nrelax):\n",
    "        for i in arange(1,nx-1):\n",
    "            for j in arange(1,ny-1):\n",
    "                q[i,j]=0.25*(q[i+1,j]+q[i-1,j]+q[i,j-1]+q[i,j+1]-dx2*div[i,j])\n",
    "        q=zerog(q)\n",
    "\n",
    "    #compute gradient of Q\n",
    "    gradQx=zeros((nx,ny))\n",
    "    gradQy=zeros((nx,ny))\n",
    "    for i in arange(1,nx-1):\n",
    "        for j in arange(1,ny-1):\n",
    "            gradQx[i,j]=h*(q[i+1,j]-q[i-1,j])  \n",
    "            gradQy[i,j]=h*(q[i,j+1]-q[i,j-1])\n",
    "            \n",
    "    #remove gradient field from the velocity arrays\n",
    "    vxo=vxo-gradQx\n",
    "    vyo=vyo-gradQy\n",
    "    vxo=wrap(vxo)\n",
    "    vyo=wrap(vyo)\n",
    "    return(vxo,vyo)\n",
    "\n",
    "#cell widths and associated variables\n",
    "global dx\n",
    "dx=1.\n",
    "global dy\n",
    "dy=1.\n",
    "global h\n",
    "h=1./(2*dx)\n",
    "global dx2\n",
    "dx2=dx*dx\n",
    "global nx\n",
    "nx=100 #number of zones in the x-direction\n",
    "global ny \n",
    "ny=100 #number of zones in the y-direction\n",
    "\n",
    "global nrelax\n",
    "nrelax=20 #number of relaxation steps for Gauss-Seidel\n",
    "global nu\n",
    "nu=0.00025 #diffusion coefficient\n",
    "global vpf\n",
    "vpf=0.25 #multiplier for velocity perturbations\n",
    "\n",
    "#set number of hydrodynamics time steps for the simulation\n",
    "nsteps=200\n",
    "\n",
    "#set this up so that we can make a velocity quiver plot to see what's going on with our flow\n",
    "global x\n",
    "global y\n",
    "x, y = mgrid[-ny/2:ny/2:ny*1j, -nx/2:nx/2:nx*1j]\n",
    "global xg\n",
    "xg=-nx/2+arange(0,nx)+dx/2\n",
    "global yg\n",
    "yg=-ny/2+arange(0,ny)+dy/2\n",
    "\n",
    "\n",
    "#seed the velocity field with random perturbations\n",
    "vxo=-vpf/2. + vpf*random.random((nx,ny))\n",
    "vyo=-vpf/2. + vpf*random.random((nx,ny))\n",
    "\n",
    "#apply the periodic boundary conditions \n",
    "vxo=wrap(vxo)\n",
    "vyo=wrap(vyo)\n",
    "vx=zeros((nx,ny))\n",
    "vy=zeros((nx,ny))\n",
    "\n",
    "vxo, vyo = project(vxo,vyo)\n",
    "\n",
    "#density = 0\n",
    "dno=zeros((nx,ny))\n",
    "\n",
    "radius = 35\n",
    "temp = 0\n",
    "#density at center \n",
    "for i in range(len(dno)):\n",
    "    for j in range(len(dno)):\n",
    "        temp = sqrt((i-50)**2+(j-50)**2)\n",
    "        if temp >= radius:\n",
    "            dno[i][j] = (.25)\n",
    "        if temp < radius: \n",
    "            dno[i][j] = (.75)\n",
    "\n",
    "dn=zeros((nx,ny))\n",
    "dno=wrap(dno)\n",
    "\n",
    "#time-step required for stable velocity diffusion\n",
    "dt=dx2/(4.*nu)\n",
    "print 'timestep for velocity diffusion',dt\n",
    "#calculate the array of speeds\n",
    "speed=sqrt(vxo**2+vyo**2)\n",
    "#ensure that timestep is short enough to ensure no more than one zone of advective transport\n",
    "dtTest=dx/amax(speed)\n",
    "if dtTest < dt:\n",
    "    dt=dtTest\n",
    "    print 'timestep for accurate advection',dt\n",
    "print 'initial timestep',dt\n",
    "totalT=0.\n",
    "imshow(dno, cmap='coolwarm')"
   ]
  },
  {
   "cell_type": "code",
   "execution_count": 105,
   "metadata": {
    "collapsed": false
   },
   "outputs": [
    {
     "name": "stdout",
     "output_type": "stream",
     "text": [
      "step # 0 / 200  Total time elapsed:  5.05242836528\n",
      "step # 1 / 200  Total time elapsed:  10.1048567306\n",
      "step # 2 / 200  Total time elapsed:  15.1572850958\n",
      "step # 3 / 200  Total time elapsed:  19.5711024441\n",
      "step # 4 / 200  Total time elapsed:  23.0465263223\n",
      "step # 5 / 200  Total time elapsed:  26.0147387142\n",
      "step # 6 / 200  Total time elapsed:  28.6378718029\n",
      "step # 7 / 200  Total time elapsed:  31.0057351003\n",
      "step # 8 / 200  Total time elapsed:  33.1847864356\n",
      "step # 9 / 200  Total time elapsed:  35.2217774428\n",
      "step # 10 / 200  Total time elapsed:  37.1293377839\n",
      "step # 11 / 200  Total time elapsed:  38.9271991276\n",
      "step # 12 / 200  Total time elapsed:  40.6181403168\n",
      "step # 13 / 200  Total time elapsed:  42.217676574\n",
      "step # 14 / 200  Total time elapsed:  43.7378570163\n",
      "step # 15 / 200  Total time elapsed:  45.1883099263\n",
      "step # 16 / 200  Total time elapsed:  46.5769026039\n",
      "step # 17 / 200  Total time elapsed:  47.9101584514\n",
      "step # 18 / 200  Total time elapsed:  49.1935776265\n",
      "step # 19 / 200  Total time elapsed:  50.4318503679\n",
      "step # 20 / 200  Total time elapsed:  51.6288134889\n",
      "step # 21 / 200  Total time elapsed:  52.7879036385\n",
      "step # 22 / 200  Total time elapsed:  53.9121979563\n",
      "step # 23 / 200  Total time elapsed:  55.0044166536\n",
      "step # 24 / 200  Total time elapsed:  56.06698316\n",
      "step # 25 / 200  Total time elapsed:  57.1018629001\n",
      "step # 26 / 200  Total time elapsed:  58.1108628454\n",
      "step # 27 / 200  Total time elapsed:  59.0957478391\n",
      "step # 28 / 200  Total time elapsed:  60.0581195919\n",
      "step # 29 / 200  Total time elapsed:  60.9993417243\n",
      "step # 30 / 200  Total time elapsed:  61.9204841713\n",
      "step # 31 / 200  Total time elapsed:  62.8227822681\n",
      "step # 32 / 200  Total time elapsed:  63.7073794995\n",
      "step # 33 / 200  Total time elapsed:  64.5751783282\n",
      "step # 34 / 200  Total time elapsed:  65.4269273831\n",
      "step # 35 / 200  Total time elapsed:  66.263545659\n",
      "step # 36 / 200  Total time elapsed:  67.0859068161\n",
      "step # 37 / 200  Total time elapsed:  67.8944805898\n",
      "step # 38 / 200  Total time elapsed:  68.6899525239\n",
      "step # 39 / 200  Total time elapsed:  69.4730563941\n",
      "step # 40 / 200  Total time elapsed:  70.2442945337\n",
      "step # 41 / 200  Total time elapsed:  71.0040736358\n",
      "step # 42 / 200  Total time elapsed:  71.7530201067\n",
      "step # 43 / 200  Total time elapsed:  72.4916449909\n",
      "step # 44 / 200  Total time elapsed:  73.2201677047\n",
      "step # 45 / 200  Total time elapsed:  73.9391378399\n",
      "step # 46 / 200  Total time elapsed:  74.6490449076\n",
      "step # 47 / 200  Total time elapsed:  75.3499935161\n",
      "step # 48 / 200  Total time elapsed:  76.0424733845\n",
      "step # 49 / 200  Total time elapsed:  76.7269253764\n",
      "step # 50 / 200  Total time elapsed:  77.403396001\n",
      "step # 51 / 200  Total time elapsed:  78.0723313866\n",
      "step # 52 / 200  Total time elapsed:  78.7340929356\n",
      "step # 53 / 200  Total time elapsed:  79.388722458\n",
      "step # 54 / 200  Total time elapsed:  80.036639537\n",
      "step # 55 / 200  Total time elapsed:  80.6780846694\n",
      "step # 56 / 200  Total time elapsed:  81.3131559826\n",
      "step # 57 / 200  Total time elapsed:  81.9422366868\n",
      "step # 58 / 200  Total time elapsed:  82.5654346482\n",
      "step # 59 / 200  Total time elapsed:  83.1829234432\n",
      "step # 60 / 200  Total time elapsed:  83.7950441639\n",
      "step # 61 / 200  Total time elapsed:  84.4017903912\n",
      "step # 62 / 200  Total time elapsed:  85.0034062889\n",
      "step # 63 / 200  Total time elapsed:  85.6001804682\n",
      "step # 64 / 200  Total time elapsed:  86.1920393093\n",
      "step # 65 / 200  Total time elapsed:  86.7792955849\n",
      "step # 66 / 200  Total time elapsed:  87.3620785603\n",
      "step # 67 / 200  Total time elapsed:  87.9404424181\n",
      "step # 68 / 200  Total time elapsed:  88.5146802601\n",
      "step # 69 / 200  Total time elapsed:  89.0847536469\n",
      "step # 70 / 200  Total time elapsed:  89.6508590246\n",
      "step # 71 / 200  Total time elapsed:  90.2131906489\n",
      "step # 72 / 200  Total time elapsed:  90.7716986893\n",
      "step # 73 / 200  Total time elapsed:  91.326655036\n",
      "step # 74 / 200  Total time elapsed:  91.8780533805\n",
      "step # 75 / 200  Total time elapsed:  92.426025623\n",
      "step # 76 / 200  Total time elapsed:  92.9707577545\n",
      "step # 77 / 200  Total time elapsed:  93.5121794943\n",
      "step # 78 / 200  Total time elapsed:  94.0505445304\n",
      "step # 79 / 200  Total time elapsed:  94.5858093998\n",
      "step # 80 / 200  Total time elapsed:  95.1181186254\n",
      "step # 81 / 200  Total time elapsed:  95.6475828808\n",
      "step # 82 / 200  Total time elapsed:  96.1741846636\n",
      "step # 83 / 200  Total time elapsed:  96.6981614415\n",
      "step # 84 / 200  Total time elapsed:  97.2193698473\n",
      "step # 85 / 200  Total time elapsed:  97.7380352712\n",
      "step # 86 / 200  Total time elapsed:  98.254132658\n",
      "step # 87 / 200  Total time elapsed:  98.7677630802\n",
      "step # 88 / 200  Total time elapsed:  99.2790014185\n",
      "step # 89 / 200  Total time elapsed:  99.7878431897\n",
      "step # 90 / 200  Total time elapsed:  100.294445557\n",
      "step # 91 / 200  Total time elapsed:  100.798717081\n",
      "step # 92 / 200  Total time elapsed:  101.300873792\n",
      "step # 93 / 200  Total time elapsed:  101.800766933\n",
      "step # 94 / 200  Total time elapsed:  102.298603605\n",
      "step # 95 / 200  Total time elapsed:  102.794285366\n",
      "step # 96 / 200  Total time elapsed:  103.287965377\n",
      "step # 97 / 200  Total time elapsed:  103.779578809\n",
      "step # 98 / 200  Total time elapsed:  104.269241955\n",
      "step # 99 / 200  Total time elapsed:  104.756907397\n",
      "step # 100 / 200  Total time elapsed:  105.2426713\n",
      "step # 101 / 200  Total time elapsed:  105.726487163\n",
      "step # 102 / 200  Total time elapsed:  106.208447544\n",
      "step # 103 / 200  Total time elapsed:  106.688490313\n",
      "step # 104 / 200  Total time elapsed:  107.166721018\n",
      "step # 105 / 200  Total time elapsed:  107.643045243\n",
      "step # 106 / 200  Total time elapsed:  108.117598462\n",
      "step # 107 / 200  Total time elapsed:  108.590237853\n",
      "step # 108 / 200  Total time elapsed:  109.061093913\n",
      "step # 109 / 200  Total time elapsed:  109.530066633\n",
      "step # 110 / 200  Total time elapsed:  109.997217404\n",
      "step # 111 / 200  Total time elapsed:  110.462531306\n",
      "step # 112 / 200  Total time elapsed:  110.925975075\n",
      "step # 113 / 200  Total time elapsed:  111.387635419\n",
      "step # 114 / 200  Total time elapsed:  111.847374436\n",
      "step # 115 / 200  Total time elapsed:  112.305274501\n",
      "step # 116 / 200  Total time elapsed:  112.761329874\n",
      "step # 117 / 200  Total time elapsed:  113.215502491\n",
      "step # 118 / 200  Total time elapsed:  113.667872681\n",
      "step # 119 / 200  Total time elapsed:  114.118402045\n",
      "step # 120 / 200  Total time elapsed:  114.567125859\n",
      "step # 121 / 200  Total time elapsed:  115.014146446\n",
      "step # 122 / 200  Total time elapsed:  115.459420688\n",
      "step # 123 / 200  Total time elapsed:  115.903066184\n",
      "step # 124 / 200  Total time elapsed:  116.345175022\n",
      "step # 125 / 200  Total time elapsed:  116.78580533\n",
      "step # 126 / 200  Total time elapsed:  117.225129433\n",
      "step # 127 / 200  Total time elapsed:  117.663294871\n",
      "step # 128 / 200  Total time elapsed:  118.100391075\n",
      "step # 129 / 200  Total time elapsed:  118.536671392\n",
      "step # 130 / 200  Total time elapsed:  118.972382918\n",
      "step # 131 / 200  Total time elapsed:  119.407764646\n",
      "step # 132 / 200  Total time elapsed:  119.843047423\n",
      "step # 133 / 200  Total time elapsed:  120.278214773\n",
      "step # 134 / 200  Total time elapsed:  120.713382123\n",
      "step # 135 / 200  Total time elapsed:  121.148549474\n",
      "step # 136 / 200  Total time elapsed:  121.583716824\n",
      "step # 137 / 200  Total time elapsed:  122.018884174\n",
      "step # 138 / 200  Total time elapsed:  122.454051524\n",
      "step # 139 / 200  Total time elapsed:  122.889218874\n",
      "step # 140 / 200  Total time elapsed:  123.324386224\n",
      "step # 141 / 200  Total time elapsed:  123.759553574\n",
      "step # 142 / 200  Total time elapsed:  124.194720924\n",
      "step # 143 / 200  Total time elapsed:  124.629888275\n",
      "step # 144 / 200  Total time elapsed:  125.065055625\n",
      "step # 145 / 200  Total time elapsed:  125.500222975\n",
      "step # 146 / 200  Total time elapsed:  125.935390325\n",
      "step # 147 / 200  Total time elapsed:  126.370557675\n",
      "step # 148 / 200  Total time elapsed:  126.805725025\n",
      "step # 149 / 200  Total time elapsed:  127.240892375\n",
      "step # 150 / 200  Total time elapsed:  127.676059726\n",
      "step # 151 / 200  Total time elapsed:  128.111227076\n",
      "step # 152 / 200  Total time elapsed:  128.546394426\n",
      "step # 153 / 200  Total time elapsed:  128.981561776\n",
      "step # 154 / 200  Total time elapsed:  129.416729126\n",
      "step # 155 / 200  Total time elapsed:  129.851896476\n",
      "step # 156 / 200  Total time elapsed:  130.287063826\n",
      "step # 157 / 200  Total time elapsed:  130.721725741\n",
      "step # 158 / 200  Total time elapsed:  131.155713195\n",
      "step # 159 / 200  Total time elapsed:  131.589105435\n",
      "step # 160 / 200  Total time elapsed:  132.021716572\n",
      "step # 161 / 200  Total time elapsed:  132.453620075\n",
      "step # 162 / 200  Total time elapsed:  132.884787923\n",
      "step # 163 / 200  Total time elapsed:  133.315140889\n",
      "step # 164 / 200  Total time elapsed:  133.744774281\n",
      "step # 165 / 200  Total time elapsed:  134.173523678\n",
      "step # 166 / 200  Total time elapsed:  134.601453756\n",
      "step # 167 / 200  Total time elapsed:  135.028556056\n",
      "step # 168 / 200  Total time elapsed:  135.454743709\n",
      "step # 169 / 200  Total time elapsed:  135.880124286\n",
      "step # 170 / 200  Total time elapsed:  136.304540816\n",
      "step # 171 / 200  Total time elapsed:  136.728061949\n",
      "step # 172 / 200  Total time elapsed:  137.150690341\n",
      "step # 173 / 200  Total time elapsed:  137.572339719\n",
      "step # 174 / 200  Total time elapsed:  137.993127362\n",
      "step # 175 / 200  Total time elapsed:  138.412902546\n",
      "step # 176 / 200  Total time elapsed:  138.831737429\n",
      "step # 177 / 200  Total time elapsed:  139.249644939\n",
      "step # 178 / 200  Total time elapsed:  139.666537211\n",
      "step # 179 / 200  Total time elapsed:  140.082539366\n",
      "step # 180 / 200  Total time elapsed:  140.497507399\n",
      "step # 181 / 200  Total time elapsed:  140.911514781\n",
      "step # 182 / 200  Total time elapsed:  141.32458384\n",
      "step # 183 / 200  Total time elapsed:  141.736624717\n",
      "step # 184 / 200  Total time elapsed:  142.147769392\n",
      "step # 185 / 200  Total time elapsed:  142.557878266\n",
      "step # 186 / 200  Total time elapsed:  142.967027456\n",
      "step # 187 / 200  Total time elapsed:  143.37524429\n",
      "step # 188 / 200  Total time elapsed:  143.782440808\n",
      "step # 189 / 200  Total time elapsed:  144.188755158\n",
      "step # 190 / 200  Total time elapsed:  144.5940461\n",
      "step # 191 / 200  Total time elapsed:  144.998397645\n",
      "step # 192 / 200  Total time elapsed:  145.401834486\n",
      "step # 193 / 200  Total time elapsed:  145.804277354\n",
      "step # 194 / 200  Total time elapsed:  146.205869494\n",
      "step # 195 / 200  Total time elapsed:  146.606460062\n",
      "step # 196 / 200  Total time elapsed:  147.006147706\n",
      "step # 197 / 200  Total time elapsed:  147.404945529\n",
      "step # 198 / 200  Total time elapsed:  147.802790455\n",
      "step # 199 / 200  Total time elapsed:  148.199829236\n"
     ]
    },
    {
     "data": {
      "image/png": "[encoded data removed]",
      "text/plain": [
       "<matplotlib.figure.Figure at 0x1b02d780>"
      ]
     },
     "metadata": {},
     "output_type": "display_data"
    }
   ],
   "source": [
    "#time loop for the actual simulation:\n",
    "for k in arange(0,nsteps):\n",
    "    #define this quantity so we don't continuously recompute it\n",
    "    dmult=dt*nu/dx2\n",
    "    for i in arange(1,nx-1):\n",
    "        for j in arange(1,ny-1):\n",
    "            vx[i,j]=vx[i,j]-0.05*(dno[i,j]-0.5)*dt\n",
    "    vxo=wrap(vx)\n",
    "    vyo=wrap(vy)\n",
    "    #project\n",
    "    vxo, vyo = project(vxo,vyo)\n",
    "            \n",
    "    #x-direction diffusion update to the x and y velocity components and density tracer\n",
    "    for i in arange(1,nx-1):\n",
    "        for j in arange(1,ny-1):\n",
    "            vx[i,j]=vxo[i,j]+dmult*(vxo[i+1,j]-2*vxo[i,j]+vxo[i-1,j])\n",
    "            vy[i,j]=vyo[i,j]+dmult*(vyo[i+1,j]-2*vyo[i,j]+vyo[i-1,j])\n",
    "            dn[i,j]=dno[i,j]+dmult*(dno[i+1,j]-2*dno[i,j]+dno[i-1,j])\n",
    "    vxo=wrap(vx)\n",
    "    vyo=wrap(vy) \n",
    "    dno=wrap(dn)\n",
    "    #y-direction diffusion update to the x and y velocity components and density tracer\n",
    "    for i in arange(1,nx-1):\n",
    "        for j in arange(1,ny-1):\n",
    "            vx[i,j]=vxo[i,j]+dmult*(vxo[i,j+1]-2*vxo[i,j]+vxo[i,j-1])\n",
    "            vy[i,j]=vyo[i,j]+dmult*(vyo[i,j+1]-2*vyo[i,j]+vyo[i,j-1])\n",
    "            dn[i,j]=dno[i,j]+dmult*(dno[i,j+1]-2*dno[i,j]+dno[i,j-1])\n",
    "    vxo=wrap(vx)\n",
    "    vyo=wrap(vy) \n",
    "    dno=wrap(dn)\n",
    "    \n",
    "    #project\n",
    "    vxo, vyo = project(vxo,vyo)\n",
    "    \n",
    "    #advection update to the velocities\n",
    "    for i in arange(1,nx-1):\n",
    "        for j in arange(1,ny-1):\n",
    "            x1=xg[i]-vxo[i,j]*dt\n",
    "            y1=yg[j]-vyo[i,j]*dt\n",
    "            ix=i\n",
    "            if x1>xg[i]:\n",
    "                ix=i+1        \n",
    "            jy=j\n",
    "            if y1>yg[j]:\n",
    "                jy=j+1           \n",
    "            t=(x1-xg[ix-1])/dx\n",
    "            u=(y1-yg[jy-1])/dy\n",
    "            vx[i,j]=(1-t)*(1-u)*vxo[ix-1,jy-1]\\\n",
    "                    + t*(1-u)*vxo[ix,jy-1]\\\n",
    "                    + t*u*vxo[ix,jy]\\\n",
    "                    + (1-t)*u*vxo[ix-1,jy]\n",
    "            vy[i,j]=(1-t)*(1-u)*vyo[ix-1,jy-1]\\\n",
    "                    + t*(1-u)*vyo[ix,jy-1]\\\n",
    "                    + t*u*vyo[ix,jy]\\\n",
    "                    + (1-t)*u*vyo[ix-1,jy]\n",
    "            dn[i,j]=(1-t)*(1-u)*dno[ix-1,jy-1]\\\n",
    "                    + t*(1-u)*dno[ix,jy-1]\\\n",
    "                    + t*u*dno[ix,jy]\\\n",
    "                    + (1-t)*u*dno[ix-1,jy]\n",
    "    vxo=wrap(vx)\n",
    "    vyo=wrap(vy)  \n",
    "    dno=wrap(dn)\n",
    "    \n",
    "    #project again to keep the flow divergance fre\n",
    "    vxo, vyo = project(vxo,vyo)\n",
    "    \n",
    "    #done with velocity update\n",
    "    totalT=totalT+dt \n",
    "    \n",
    "    #next check for timestep update\n",
    "    speed=sqrt(vxo**2+vyo**2)\n",
    "    dtTest=dx/amax(speed)\n",
    "    if dtTest < dt:\n",
    "        dt=dtTest\n",
    "        \n",
    "    print 'step #',k,'/',nsteps,' Total time elapsed: ',totalT\n",
    "    \n",
    "    #density plot code\n",
    "    imshow(dno, cmap='coolwarm')\n",
    "    \n",
    "    "
   ]
  },
  {
   "cell_type": "markdown",
   "metadata": {
    "collapsed": false
   },
   "source": [
    "#2) Using a multi-parameter optimization to find a planet "
   ]
  },
  {
   "cell_type": "markdown",
   "metadata": {},
   "source": [
    "In class, we outlined the problem of using an optimization algorithm to determine the best orbital model for a given radial velocity data set. Now, we'll put theory into practice.\n",
    "\n",
    "The data that we'll use was obtained with the Automated Planet Finder (APF) telescope on Mt. Hamilton, and is on eCommons under the name HD217014_APF. We'll use the 2-dimensional Simplex method to find the Time of Periastron and the Mass of the planet, given its orbital period."
   ]
  },
  {
   "cell_type": "markdown",
   "metadata": {
    "collapsed": false
   },
   "source": [
    "The radial velocity data file consists of a number of columns. Only the first three columns are important. The first column gives the time of the observation of the star in Julian days. (The Julian day count started on November 24, 4714 BCE according to our current Gregorian calendar, and each new Julian day starts at Noon, Greenwich Mean Time). I would advise subtracting off the time of the first observation from all subsequent observations. This start time, T=0 defines your initial \"epoch\", and you can see when it was using the Julian Date Converter of the US Naval Observatory:\n",
    "\n",
    "http://aa.usno.navy.mil/data/docs/JulianDate.php"
   ]
  },
  {
   "cell_type": "markdown",
   "metadata": {},
   "source": [
    "What was the calendar date of the first observation, which we're now defining as $t=0$?"
   ]
  },
  {
   "cell_type": "code",
   "execution_count": 271,
   "metadata": {
    "collapsed": false
   },
   "outputs": [
    {
     "name": "stdout",
     "output_type": "stream",
     "text": [
      "2456472.8227\n",
      "2013 June 29 07:44:41 is define as t = 0\n"
     ]
    }
   ],
   "source": [
    "#Populate the data into these empty list objects\n",
    "global time\n",
    "global rVelocity\n",
    "global uncertainty\n",
    "time = []\n",
    "rVelocity = []\n",
    "uncertainty = []\n",
    "\n",
    "#open text file and read the lines\n",
    "f = open('HD217014_APF.vels.txt', 'r')\n",
    "f.seek(0)\n",
    "for line in f:\n",
    "    spl=line.split()\n",
    "    time.append(spl[0])\n",
    "    rVelocity.append(spl[1])\n",
    "    uncertainty.append(spl[2])\n",
    "    \n",
    "#define varibles\n",
    "time = array(time).astype(float)\n",
    "rVelocity = array(rVelocity).astype(float)\n",
    "uncertainty = array(uncertainty).astype(float)\n",
    "\n",
    "print time[0]\n",
    "temp = time[0]\n",
    "#subtract every varibles (t>0) by t=0\n",
    "for i in range(len(time)):\n",
    "    time[i] = time[i] - temp\n",
    "print \"2013 June 29 07:44:41 is define as t = 0\""
   ]
  },
  {
   "cell_type": "markdown",
   "metadata": {},
   "source": [
    "The second column gives the observed radial velocity measurement for the star, $v_{obs_{i}}$ in m/s, and the third column gives $\\sigma_i$, the measurement uncertainty. You should read in these three needed columns and convert everything to cgs units:\n"
   ]
  },
  {
   "cell_type": "code",
   "execution_count": 272,
   "metadata": {
    "collapsed": false
   },
   "outputs": [],
   "source": [
    "rVelocity = rVelocity*100 #cm/s\n",
    "uncertainty = uncertainty *100 #cm/s"
   ]
  },
  {
   "cell_type": "markdown",
   "metadata": {},
   "source": [
    "The planet and the star are both orbiting around their mutual center of mass. The radial velocity curve of the star is a function of the orbital parameters of the planet, as well as the masses of both the planet and the star. In order to make things relatively simple, we'll make a few assumptions. First, as we showed in class using the *Systemic Console* (online version is here, http://www.stefanom.org/systemic-live/, check it out), the period of the planet is $P=4.231$ days. We'll also assume that the planet has a circular orbit, and that its inclination to the sky plane is 90 degrees (that is, that we're seeing the star-planet system edge on), and that the mass of the parent star is one solar mass, ($M_{\\star}=M_{\\odot}$). With these assumptions, the radial velocity of the star, $V_{\\star}$ at a given moment in time, $t$, is \n",
    "\n",
    "$$V_{\\star}(t)=K \\cos (\\theta)$$\n",
    "\n",
    "where $K$ is the amplitude of the star's sinusoidal velocity curve,\n",
    "\n",
    "$$K=\\left(\\frac{2\\pi G}{P}\\right)^{1/3}\\frac{M_{\\rm pl}}{{M_{\\odot}}^{2/3}}$$\n",
    "\n",
    "and the angle $\\theta$ is the *mean anomaly* of the planet at the time that the planet was observed (one often sees the letter $M$ used for mean anomaly, but this seems confusing given that we're using $M$s already for the masses. The mean anomaly is related to the time, $T_{\\rm peri}$ that the planet goes through its periastron passage.\n",
    "\n",
    "$$\\theta=\\frac{2\\pi}{P}(t-T_{\\rm peri})$$\n",
    "\n",
    "For a circular orbit, the time of periastron passage is defined as the moment when the planet is headed directly toward the Earth:\n",
    "\n",
    "<img src=\"RVschematic.png\" style=\"width: 400px;\"/>\n",
    "\n",
    "To fix ideas, we'll assume that the first observation takes place at time $t=0$, and that $T_{\\rm peri}$ was the time of the last periastron passage that took place *before* $t=0$. This means that the $T_{\\rm peri}$ could have potentially occurred anywhere between $T_{\\rm peri}=-P=-4.231$ days and $T_{\\rm peri}=0$ days before the $t=0$ time. Of course if we're using cgs units, our unit of time will be seconds, not days. There are 86,400 seconds in a Julian day -- same as the number in a regular day.\n",
    "\n",
    "In order to make a radial velocity curve, we therefore need to specify *two* unknown quantities: (1) $T_{\\rm peri}$, the time of periastron passage, and (2) $M_{\\rm pl}$, the mass of the planet. Let's assume that the planet can range anywhere from zero Jupiter masses to 10 Jupiter masses (expressed in grams, since we're using cgs).\n"
   ]
  },
  {
   "cell_type": "markdown",
   "metadata": {},
   "source": [
    "Based on the above description, write a function that takes a Time of periastron, $T_{\\rm peri}$, a planetary mass, $M_{\\rm pl}$, and a time $t$ as input and returns the radial velocity, $V_{\\star}(t)$ of the star."
   ]
  },
  {
   "cell_type": "code",
   "execution_count": 273,
   "metadata": {
    "collapsed": false
   },
   "outputs": [],
   "source": [
    "global au\n",
    "au = 1.49e13 #cm\n",
    "global G\n",
    "G = 6.67e-8 #cm3 g^-1 s^-2\n",
    "global mSun\n",
    "mSun = 1.989e33 #g\n",
    "global MJupiter\n",
    "mJupiter = (0.0009543 *mSun) #g \n",
    "global day\n",
    "day = 86400 #s\n",
    "global period\n",
    "period = 4.231 *day #s\n",
    "\n",
    "def radVelocity(Tperi,Mpl,t):\n",
    "    theta = (2*pi* (t - Tperi))/period \n",
    "    k = ((2.*pi*G)/period)**(1./3.)*Mpl/mSun**(2./3.)\n",
    "    V= k*cos(theta)\n",
    "    return V"
   ]
  },
  {
   "cell_type": "markdown",
   "metadata": {},
   "source": [
    "What is the radial velocity of the star if $T_{peri}=-1.33$ days, $M_{\\rm pl}=2.37\\,M_{\\rm Jup}$, and $t=2\\,$d?"
   ]
  },
  {
   "cell_type": "code",
   "execution_count": 274,
   "metadata": {
    "collapsed": false
   },
   "outputs": [
    {
     "name": "stdout",
     "output_type": "stream",
     "text": [
      "6867.1467899 cm/s\n"
     ]
    }
   ],
   "source": [
    "Tperi = -1.33 * day \n",
    "Mpl = 2.37 * mJupiter\n",
    "t = 2 *day\n",
    "\n",
    "print radVelocity(Tperi, Mpl, t) ,\"cm/s\""
   ]
  },
  {
   "cell_type": "markdown",
   "metadata": {},
   "source": [
    "Next, given a choice for the planet mass and the time of periastron, we need to compute the radial velocity that the star would have at each moment it was observed, and we need to see how well the radial velocities from this \"model\" (i.e. choice of $T_{\\rm peri}$ and $M_{\\rm pl}$) fits the data. Write a function that returns the goodness of fit $\\chi^{2}$ for a particular choice of $T_{\\rm peri}$ and $M_{\\rm pl}$, given the times, velocities and uncertainties of the observations:\n",
    "\n",
    "$$\\chi^{2}=\\sum_{i=1}^{N_{\\rm obs}}\\left[\\frac{v_{obs_{i}}-V_{\\star}(t_i)}{\\sigma_{i}}\\right]^{2}\\, .$$"
   ]
  },
  {
   "cell_type": "code",
   "execution_count": 275,
   "metadata": {
    "collapsed": false
   },
   "outputs": [],
   "source": [
    "def gof(Tperi, Mpl):\n",
    "    xx = []\n",
    "    for i in range(len(time)):\n",
    "        temp = ((rVelocity[i] - radVelocity(Tperi, Mpl, time[i]))/uncertainty[i])**2\n",
    "        xx.append(temp)\n",
    "    xx = array(xx).astype(float)\n",
    "    return sum(xx)"
   ]
  },
  {
   "cell_type": "markdown",
   "metadata": {},
   "source": [
    "What is the radial velocity of the star if $T_{peri}=-1.33$ days and $M_{\\rm pl}=2.37\\,M_{\\rm Jup}$?"
   ]
  },
  {
   "cell_type": "code",
   "execution_count": 276,
   "metadata": {
    "collapsed": false
   },
   "outputs": [
    {
     "name": "stdout",
     "output_type": "stream",
     "text": [
      "849664.399539\n"
     ]
    }
   ],
   "source": [
    "print gof(Tperi, Mpl)"
   ]
  },
  {
   "cell_type": "markdown",
   "metadata": {},
   "source": [
    "In class, we described the use of the \"downhill simplex\" optimization technique to find the best fit for the planet mass and time of periastron passage. Ideally, it would be good to use this method to find the best fit, but I realize that this is a lot of work. So let's do a simpler \"brute force\" optimization technique. Let's divide the range of possible masses into 50 equal increments and the range of possible $T_{\\rm peri}$ into 50 equal increments. Test all these possibilities to find which pair gives the lowest value for $\\chi^{2}$"
   ]
  },
  {
   "cell_type": "code",
   "execution_count": 278,
   "metadata": {
    "collapsed": false
   },
   "outputs": [
    {
     "name": "stdout",
     "output_type": "stream",
     "text": [
      "73820.0893971 is the lowest value for chi^2\n",
      "At -270513.216 s and 3.7962054e+29 g\n"
     ]
    }
   ],
   "source": [
    "Mpl = arange(0*mJupiter, 10 *mJupiter, .2*mJupiter)\n",
    "Tperi = arange(-period, 0 , period/50.)\n",
    "countI = 0\n",
    "countJ = 0\n",
    "ii = 0\n",
    "jj = 0\n",
    "temp2 = 1000000000\n",
    "mintemp = []\n",
    "for i in range(len(Mpl)):\n",
    "    for j in range(len(Mpl)):\n",
    "        temp3 = gof(Tperi[i], Mpl[j])\n",
    "        mintemp.append(temp3)\n",
    "        if temp3 < temp2:\n",
    "            ii = i \n",
    "            jj = j\n",
    "            temp2 = temp3\n",
    "            \n",
    "print min(mintemp), \"is the lowest value for chi^2\"\n",
    "print \"At\", Tperi[ii], \"s and\", Mpl[jj],\"g\""
   ]
  },
  {
   "cell_type": "code",
   "execution_count": null,
   "metadata": {
    "collapsed": false
   },
   "outputs": [],
   "source": []
  },
  {
   "cell_type": "code",
   "execution_count": null,
   "metadata": {
    "collapsed": true
   },
   "outputs": [],
   "source": []
  }
 ],
 "metadata": {
  "kernelspec": {
   "display_name": "Python 2",
   "language": "python",
   "name": "python2"
  },
  "language_info": {
   "codemirror_mode": {
    "name": "ipython",
    "version": 2
   },
   "file_extension": ".py",
   "mimetype": "text/x-python",
   "name": "python",
   "nbconvert_exporter": "python",
   "pygments_lexer": "ipython2",
   "version": "2.7.11"
  }
 },
 "nbformat": 4,
 "nbformat_minor": 0
}
