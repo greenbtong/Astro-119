{
 "cells": [
  {
   "cell_type": "markdown",
   "metadata": {},
   "source": [
    "# Intro to Scientific Computing\n",
    "\n",
    "${\\bf Problem \\,Set\\, 1}$\n",
    "\n",
    "NAME: Brian Tong\n",
    "\n",
    "DATE: 1/13/2016\n",
    "\n",
    "To hand in your homework, please print out your completed iPython Notebook and bring to class on the due date: \n",
    "${\\bf Wed., Jan. 13}$"
   ]
  },
  {
   "cell_type": "markdown",
   "metadata": {},
   "source": [
    "# 0) Install python on your system\n",
    "\n",
    "Anaconda is a distribution of Python that's very well suited to scientific computing, and it's easy to install on Windows, Linux or Mac OSX.\n",
    "\n",
    "To install go here:\n",
    "https://www.continuum.io/downloads\n",
    "\n",
    "Pick the \"python 2.7\" download that matches your operating system, and then follow the installer instructions. \n",
    "http://docs.continuum.io/anaconda/install\n",
    "It's a pretty big (~250Mb) download, and you'll need 1GB of free space to install. Remove any video games (if necessary) from your drive if you have insufficient free space.\n",
    "\n",
    "To launch, they click on the stylized yellow and blue \"snake\" launcher button which should now be on the desktop, then iPython. This homework set is designed to get you comfortable using the iPython Notebook."
   ]
  },
  {
   "cell_type": "code",
   "execution_count": 8,
   "metadata": {
    "collapsed": true
   },
   "outputs": [],
   "source": [
    "# In this cell we define some default settings and import some libraries. \n",
    "##### Important: you need to evaluate this cell by hitting \"shift\"+\"enter\"\n",
    "\n",
    "import matplotlib.pyplot as plt\n",
    "import numpy as np\n",
    "#from astropy.io import ascii  \n",
    "\n",
    "%matplotlib inline\n",
    "\n",
    "# set some global options\n",
    "plt.rcParams['figure.figsize'] = (5,4)\n",
    "plt.rcParams['legend.fontsize'] = 16\n",
    "plt.rcParams['font.family'] = 'stixgeneral'\n",
    "plt.rcParams['font.size'] = 18\n",
    "\n",
    "#let's also define some constants (cgs units) \n",
    "AU = 1.49597870e+13  # cm \n",
    "MSun = 1.98911e+33 #g\n",
    "Mearth = 5.99219e+27 #g\n",
    "Rearth = 6.371e+8 #cm\n",
    "SecInDay = 86400. #s\n",
    "SecInYear = SecInDay*365.25 #s\n",
    "kB=1.3807e-16 #erg/k\n",
    "avro=6.022141e+23 #1/mol\n",
    "Lsun=3.839e+33 #erg/s"
   ]
  },
  {
   "cell_type": "markdown",
   "metadata": {},
   "source": [
    "# 1) Constants & Units\n",
    "\n",
    "In the cell above, add comments (like the one example on the line AU = ... )\n",
    "that give the correct cgs units for each quantity. If a quantity is dimensionless, it can stay uncommented.\n",
    "\n",
    "We can add a comment to a line by using the \"#\" character, which \n",
    "instructs the computer to ignore the remainder of the line. This is \n",
    "useful to leave notes in our code describing what's going on! "
   ]
  },
  {
   "cell_type": "markdown",
   "metadata": {},
   "source": [
    "# 2) A little math... \n",
    "\n",
    "In the cell below this one, try defining some variables and typing some math. For example, assign values to two variables, add them together, and print them out.\n",
    "<pre><code>\n",
    "a = 2\n",
    "b = 3\n",
    "print a+b\n",
    "</code></pre>\n",
    "\n",
    "hit \"shift\" + \"enter\" to evaluate the result. This is just to confirm that \n",
    "the notebook is setup correctly. "
   ]
  },
  {
   "cell_type": "code",
   "execution_count": 9,
   "metadata": {
    "collapsed": false
   },
   "outputs": [
    {
     "name": "stdout",
     "output_type": "stream",
     "text": [
      "5\n"
     ]
    }
   ],
   "source": [
    "a = 2 \n",
    "b = 3\n",
    "print a+b"
   ]
  },
  {
   "cell_type": "markdown",
   "metadata": {},
   "source": [
    "as things get a little bit more complicated, we'll ask you to include text in your responses, like:\n",
    "<pre><code>\n",
    "a = 2\n",
    "b = 3\n",
    "print \"a + b =\", a+b\n",
    "</code></pre>\n",
    "TRY that below. \n",
    "\n",
    "Notice that we've printed text by putting it in quotes, and we can print multiple things by separating them with a comma. "
   ]
  },
  {
   "cell_type": "code",
   "execution_count": 10,
   "metadata": {
    "collapsed": false
   },
   "outputs": [
    {
     "name": "stdout",
     "output_type": "stream",
     "text": [
      "a+b = 5\n"
     ]
    }
   ],
   "source": [
    "a = 2\n",
    "b = 3\n",
    "print \"a+b =\", a+b"
   ]
  },
  {
   "cell_type": "markdown",
   "metadata": {},
   "source": [
    "# 3) Computing Computing's Cost \n",
    "\n",
    "In this question we'll estimate the power usage of major computer centers\n",
    "around the world. \n",
    "\n",
    "# a) \n",
    "\n",
    "The Tianhe - 2 computer on top500.org runs at 33.8 Petaflops, \n",
    "assume 1 flop = 100 bit operations. Extra \"cred\" (not extra credit), WHY?\n",
    "\n",
    "Its power consumption is 17,808 kW, where kW = 1000 W, and 1W=$10^7$ erg/second. \n",
    "\n",
    " CALCULATE bit operations per erg (in the cells below): \n",
    "\n",
    "Some general guidlines:\n",
    "- please include comment line(s) explaining your calculation steps or print lines explaining your results. \n",
    "- you can use the constants above as an example of how to represent scientific notation\n",
    "- we'll break the calculation down into steps to get toward the answer (you can always insert a cell using the menu toolbar at the top)"
   ]
  },
  {
   "cell_type": "code",
   "execution_count": 44,
   "metadata": {
    "collapsed": false
   },
   "outputs": [
    {
     "name": "stdout",
     "output_type": "stream",
     "text": [
      "3.38e+18 bit/second\n"
     ]
    }
   ],
   "source": [
    "# In this cell calculate the bit operations per second, \n",
    "# as always, hit \"shift\"+\"enter\" to evaluate\n",
    "\n",
    "#constants \n",
    "CompRuns = 33.8 #Petaflops\n",
    "flop = 100 #bit operations\n",
    "PowerCon = 17808 #kW\n",
    "kW = 1000 #W\n",
    "W = 1e+7 #erg/second\n",
    "\n",
    "BitOper = CompRuns * 1e+15 * flop \n",
    "print BitOper, \"bit/second\""
   ]
  },
  {
   "cell_type": "code",
   "execution_count": 43,
   "metadata": {
    "collapsed": false
   },
   "outputs": [
    {
     "name": "stdout",
     "output_type": "stream",
     "text": [
      "1.7808e+14 erg/sec\n"
     ]
    }
   ],
   "source": [
    "# Now calculate the the power consumption in erg/sec\n",
    "\n",
    "erg = PowerCon * kW * W\n",
    "print erg, \"erg/sec\""
   ]
  },
  {
   "cell_type": "code",
   "execution_count": 42,
   "metadata": {
    "collapsed": false,
    "scrolled": true
   },
   "outputs": [
    {
     "name": "stdout",
     "output_type": "stream",
     "text": [
      "18980.2336029 bits/erg\n"
     ]
    }
   ],
   "source": [
    "# finally, divide the two to compute bits computed per erg, and print the result\n",
    "bitErg = BitOper/erg\n",
    "print bitErg, \"bits/erg\""
   ]
  },
  {
   "cell_type": "markdown",
   "metadata": {},
   "source": [
    "# b)\n",
    "\n",
    "Landauer's law states that the minimum energy to flip a bit is $E=\\ln (2) kT$.\n",
    "\n",
    "Assume that computation runs at ambient temperature of 300K. \n",
    "\n",
    "HOW efficient is Tianhe 2 compared \n",
    "to the theoretical limiting efficiency?\n",
    "\n",
    "<em>(please include comments, and define variables as needed just like in part \"a\")"
   ]
  },
  {
   "cell_type": "code",
   "execution_count": 73,
   "metadata": {
    "collapsed": false
   },
   "outputs": [
    {
     "name": "stdout",
     "output_type": "stream",
     "text": [
      "2.8710849366e-14 ergs/bits\n",
      "Tianhe 2's efficiency is 5.44938627903e-10 compared to the the theoretical limiting efficiency.\n"
     ]
    }
   ],
   "source": [
    "#E= ln(2)kT\n",
    "minEnergy = np.log(2)*300*kB #erg/bits\n",
    "print minEnergy, \"ergs/bits\" \n",
    "TLefficiency = minEnergy*bitErg \n",
    "print \"Tianhe 2's efficiency is\", TLefficiency, \"compared to the the theoretical limiting efficiency.\""
   ]
  },
  {
   "cell_type": "markdown",
   "metadata": {},
   "source": [
    "# c)\n",
    "Earth's yearly electric power production is 20,000 terraWatt hours, which is 1/6th of human yearly energy usage (which also includes things like transportation, burning gas for cooking, etc.)\n",
    "Data centers use 2% of Earth's electrical power production.\n",
    "Assume that data centers have same bit operations per erg as Tianhe 2.\n",
    "CALCULATE world bit operations per year. HOW MANY moles of bit operations?"
   ]
  },
  {
   "cell_type": "code",
   "execution_count": 49,
   "metadata": {
    "collapsed": false
   },
   "outputs": [
    {
     "name": "stdout",
     "output_type": "stream",
     "text": [
      "2.73315363881e+29 bit/year\n",
      "453850.821297 Moles of bit\n"
     ]
    }
   ],
   "source": [
    "dataCenters = 2e+16 * W * 3600 * .02 #erg/year\n",
    "dataBit = BitOper/erg * dataCenters #bit/year\n",
    "print dataBit, \"bit/year\"\n",
    "dataBM = dataBit / avro\n",
    "print dataBM, \"Moles of bit\" #moles of bit operations"
   ]
  },
  {
   "cell_type": "markdown",
   "metadata": {},
   "source": [
    "# d)\n",
    "Given the solar energy striking Earth, what fraction of Earth's surface would\n",
    "need to be given over to solar collection in order to run the data centers.\n",
    "Assume Earth has Albedo of 0.3, and that the energy conversion is perfectly efficient."
   ]
  },
  {
   "cell_type": "code",
   "execution_count": 74,
   "metadata": {
    "collapsed": false
   },
   "outputs": [
    {
     "name": "stdout",
     "output_type": "stream",
     "text": [
      "4.7753263492e+11 cm^2 would be needed to run the data centers which is 9.36220147096e-08 of Earth's surface.\n"
     ]
    }
   ],
   "source": [
    "solarEnergy = Lsun/(4 * np.pi * AU**2) #ergs/sec\n",
    "areaNeeded = dataCenters/SecInYear / (solarEnergy *.7) #cm^2\n",
    "SA = 4*np.pi*Rearth**2 #cm^2\n",
    "area = areaNeeded / SA \n",
    "print areaNeeded, \"cm^2 would be needed to run the data centers which is\", area, \"of Earth's surface.\""
   ]
  },
  {
   "cell_type": "markdown",
   "metadata": {},
   "source": [
    "# e) \n",
    "\n",
    "If we assume that the energy usage of computation doubles every 5 years, how long until the Earth's surface is entirely devoted to collecting sunlight for computation?\n",
    "\n",
    "EITHER TYPE IN or LEAVE some blank space in your printout to write in your algebra! "
   ]
  },
  {
   "cell_type": "code",
   "execution_count": 72,
   "metadata": {
    "collapsed": false
   },
   "outputs": [
    {
     "name": "stdout",
     "output_type": "stream",
     "text": [
      "116.742884737 years which is about 117 years until the Earth's surface is enirely devoted to collecting sunlight for computation\n"
     ]
    }
   ],
   "source": [
    "# SA= 2^x * areaNeeded\n",
    "# log2(SA) = x + log2(areaNeeded)\n",
    "# x = log2(SA) - log2(areaNeeded)\n",
    "n = np.log2(SA) - np.log2(areaNeeded) #n times the energy usage of computation doubles \n",
    "print n * 5, \"years which is about 117 years until the Earth's surface is enirely devoted to collecting sunlight for computation\""
   ]
  }
 ],
 "metadata": {
  "kernelspec": {
   "display_name": "Python 2",
   "language": "python",
   "name": "python2"
  },
  "language_info": {
   "codemirror_mode": {
    "name": "ipython",
    "version": 2
   },
   "file_extension": ".py",
   "mimetype": "text/x-python",
   "name": "python",
   "nbconvert_exporter": "python",
   "pygments_lexer": "ipython2",
   "version": "2.7.11"
  }
 },
 "nbformat": 4,
 "nbformat_minor": 0
}
