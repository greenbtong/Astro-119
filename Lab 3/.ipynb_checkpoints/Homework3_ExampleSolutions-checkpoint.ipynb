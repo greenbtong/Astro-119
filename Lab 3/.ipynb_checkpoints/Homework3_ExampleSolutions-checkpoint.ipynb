{
 "cells": [
  {
   "cell_type": "markdown",
   "metadata": {},
   "source": [
    "# Intro to Scientific Computing\n",
    "\n",
    "${\\bf Problem \\,Set\\, 3}$\n",
    "\n",
    "NAME:\n",
    "\n",
    "DATE:\n",
    "\n",
    "Due date: \n",
    "${\\bf Monday, Feb. 8}$"
   ]
  },
  {
   "cell_type": "markdown",
   "metadata": {},
   "source": [
    "# 1) The orbit of Planet Nine\n",
    "\n",
    "In this problem, we'll work with plotting and numerical integration. \n",
    "\n",
    "There's a fair amount of uncertainty regarding the orbit of Planet Nine. Let's imagine that some new calculations are done, which finds that its orbit has an eccentricity, $e=0.8$, and a semi-major axis of $a=750$ AU. What is the orbital period in years?"
   ]
  },
  {
   "cell_type": "code",
   "execution_count": 1,
   "metadata": {
    "collapsed": true
   },
   "outputs": [],
   "source": [
    "from numpy import *\n",
    "from matplotlib.pyplot import * \n",
    "%matplotlib inline"
   ]
  },
  {
   "cell_type": "code",
   "execution_count": 2,
   "metadata": {
    "collapsed": false
   },
   "outputs": [
    {
     "name": "stdout",
     "output_type": "stream",
     "text": [
      "The orbital period is  20539.5959064  years\n"
     ]
    }
   ],
   "source": [
    "# In years the orbital period P^2 = a^3, so P(yr) = a^1.5\n",
    "a = 750 # au\n",
    "e = 0.8\n",
    "\n",
    "p_yr = a**1.5\n",
    "\n",
    "sec_in_yr = 3.154e7\n",
    "p  = p_yr * sec_in_yr # make a version converted to seconds as well\n",
    "\n",
    "print \"The orbital period is \",p_yr, \" years\""
   ]
  },
  {
   "cell_type": "markdown",
   "metadata": {},
   "source": [
    "What are the minimum and maximum possible light-travel times from the Earth to the planet?"
   ]
  },
  {
   "cell_type": "code",
   "execution_count": 3,
   "metadata": {
    "collapsed": false
   },
   "outputs": [
    {
     "name": "stdout",
     "output_type": "stream",
     "text": [
      "The minimum light travel time is  74749.1638796 s\n",
      "The maximum light travel time is  672742.474916 s\n"
     ]
    }
   ],
   "source": [
    "rmin_au = (1-e)*a # in au\n",
    "rmax_au = (1+e)*a # in au\n",
    "\n",
    "au = 1.49e13\n",
    "rmin = rmin_au * au # convert to cm\n",
    "rmax = rmax_au * au \n",
    "\n",
    "c = 2.99e10 # speed of light, cm/s \n",
    "\n",
    "print \"The minimum light travel time is \",rmin/c,\"s\"\n",
    "print \"The maximum light travel time is \",rmax/c,\"s\"\n"
   ]
  },
  {
   "cell_type": "markdown",
   "metadata": {},
   "source": [
    "Generate a plot of Planet Nine's orbit that plots its $(x,y)$ position at 120 equally spaced intervals in time using points (not a line). \n",
    "\n",
    "Make sure that the aspect ratio of the plot is 1:1, so that the orbit is displayed with its correct shape. \n",
    "\n",
    "Place a \"plus\" sign at the Sun's location, and draw a 1AU circle indicating the size of Earth's orbit."
   ]
  },
  {
   "cell_type": "code",
   "execution_count": 4,
   "metadata": {
    "collapsed": false
   },
   "outputs": [
    {
     "name": "stdout",
     "output_type": "stream",
     "text": [
      "(5, ' iterations required')\n"
     ]
    },
    {
     "data": {
      "text/plain": [
       "[<matplotlib.lines.Line2D at 0x10b39ad90>]"
      ]
     },
     "execution_count": 4,
     "metadata": {},
     "output_type": "execute_result"
    },
    {
     "data": {
      "image/png": "[encoded data removed]",
      "text/plain": [
       "<matplotlib.figure.Figure at 0x10b39aed0>"
      ]
     },
     "metadata": {},
     "output_type": "display_data"
    }
   ],
   "source": [
    "# For this problem we'll use Newton's method to find equally spaced intervals in time. \n",
    "### (SEE THE CLASS TEN NOTES FOR THE FULL DESCRIPTION OF WHAT'S GOING ON HERE)  ###\n",
    "\n",
    "# distance to the planet as a function of angle f, a, and e\n",
    "def r(f,a,e):\n",
    "    return(a*(1-e**2)/(1+e*cos(f)))\n",
    "\n",
    "# Define Kepler's equation, and its derivative. \n",
    "def fE(E,M,e):\n",
    "    return(E-e*sin(E)-M)\n",
    "def fprimeE(E,e):\n",
    "    return(1-e*cos(E))\n",
    "\n",
    "# Mean anomoly, M\n",
    "M=arange(0,2*pi+2*pi/120.,2*pi/120.)\n",
    "\n",
    "# Setup for the Newton's method iteration by defining an initial guess, for E: E0\n",
    "E0=M\n",
    "# make an improved guess for E1 : we use f and it's derivative f'\n",
    "E1=E0-fE(E0,M,e)/fprimeE(E0,e)\n",
    "\n",
    "# iteratively improve our estimate of E until it settles down to <1.e-8\n",
    "i=0\n",
    "while max(abs((E1-E0))) > 1e-8:\n",
    "    i=i+1\n",
    "    E0=E1\n",
    "    E1=E0-fE(E0,M,e)/fprimeE(E0,e)\n",
    "    if i>10: \n",
    "        assert False\n",
    "        \n",
    "print(i,' iterations required') \n",
    "\n",
    "# Convert to x, y positions (see class notes)\n",
    "f=2*arctan(sqrt((1+e)/(1-e))*tan(E1/2))\n",
    "x=r(f,a,e)*cos(f)\n",
    "y=r(f,a,e)*sin(f)\n",
    "plot(x,y, 'ro')\n",
    "\n",
    "# 1 AU circular orbit\n",
    "xEarth=cos(M)\n",
    "yEarth=sin(M)\n",
    "plot(xEarth,yEarth,'-')\n",
    "\n",
    "# Plot the sun's position using a \"+\"\n",
    "plot(0,0,'+')"
   ]
  },
  {
   "cell_type": "markdown",
   "metadata": {},
   "source": [
    "Write your own version of the Runge-Kutta Fourth-order integration technique discussed in class. Use 120 equally spaced time steps. Impliment this by writing a \"for\" loop that advances your solution one time step at a time.  \n",
    "\n",
    "Next, plot the numerical integration of the planet's orbit using a thin line ON TOP of your previous plot. You can do this by pasting the code to create your previous plot here, then adding a new call to \"plot()\" below your other one.\n",
    "\n",
    "Comment on how well this numerically integrated version agrees with the Kepler's equation orbit you've plotted above.\n",
    "\n",
    "Note: feel free to break this cell up into a few if you need more space!"
   ]
  },
  {
   "cell_type": "code",
   "execution_count": 5,
   "metadata": {
    "collapsed": false
   },
   "outputs": [
    {
     "name": "stdout",
     "output_type": "stream",
     "text": [
      "My initial conditions are:\n",
      "[ -2.01150000e+16   0.00000000e+00   0.00000000e+00   3.63191176e+04]\n"
     ]
    },
    {
     "data": {
      "text/plain": [
       "(-1400.0, 200.0, -500.0, 500.0)"
      ]
     },
     "execution_count": 5,
     "metadata": {},
     "output_type": "execute_result"
    },
    {
     "data": {
      "image/png": "[encoded data removed]",
      "text/plain": [
       "<matplotlib.figure.Figure at 0x10b42fa10>"
      ]
     },
     "metadata": {},
     "output_type": "display_data"
    }
   ],
   "source": [
    "# FIRST WE DEFINE OUR \"Derivatives\" function that takes in a set of values and returns a set of their derivatives. \n",
    "G = 6.67e-8\n",
    "msun = 1.989e33\n",
    "\n",
    "def derivs(rv):\n",
    "    # step 1, unpack our input vector\n",
    "    x = rv[0]\n",
    "    y = rv[1]\n",
    "    vx = rv[2]\n",
    "    vy = rv[3]\n",
    "    \n",
    "    #step two, set the derivatives using our eqns\n",
    "    r = sqrt(x**2 + y**2)\n",
    "    dxdt = vx\n",
    "    dydt = vy\n",
    "    dvxdt = - (G*msun / r**3) * x\n",
    "    dvydt = - (G*msun / r**3) * y\n",
    "    \n",
    "    # pack the derivatives up, and ship them out\n",
    "    return( array([dxdt, dydt, dvxdt, dvydt]) )    \n",
    "\n",
    "\n",
    "# In this cell, lets use midpoint instead\n",
    "\n",
    "# integration times\n",
    "dt = p / 120.  # try 300, 1000 also to see the convergence!\n",
    "t=arange(0, p , dt) # the times that we'll step through\n",
    "\n",
    "# initial condition\n",
    "a_cm = a*au # make a variable for a in cm (convert from au to cm)\n",
    "\n",
    "# For the initial condition I'll choose the point where the object is furthest from the sun\n",
    "# The advantage of choosing one of these is that these points lie along the x-axis. so position is in x, \n",
    "# and velocity is all in y-direction. \n",
    "# to see where the velocity comes from, take a look at this wikipedia article: \n",
    "# https://en.wikipedia.org/wiki/Elliptic_orbit\n",
    "xv0 = array( [-rmax,   # x\n",
    "              0 ,   # y\n",
    "              0 ,   # v_x\n",
    "              sqrt(G*msun*(2/rmax - 1/a_cm ))] )  # v_y\n",
    "\n",
    "print \"My initial conditions are:\"\n",
    "print xv0\n",
    "\n",
    "# Define some empty lists to fill with our data as we get it\n",
    "x_integrated = [] \n",
    "y_integrated = []\n",
    "vx_integrated = []\n",
    "vy_integrated = []\n",
    "\n",
    "# Now step forward through our timesteps\n",
    "for i in t:\n",
    "    # 4-th order Runge Kutta Algorithm\n",
    "    k1 = dt*derivs(xv0)\n",
    "    k2 = dt*derivs(xv0 + k1/2. )\n",
    "    k3 = dt*derivs(xv0 + k2/2. )\n",
    "    k4 = dt*derivs(xv0 + k3)\n",
    "    xv = xv0 + k1/6. + k2/3. + k3/3. + k4/6.\n",
    "    \n",
    "    \n",
    "    # add the current value to our lists of positions and velocities\n",
    "    #print xv0[0:2]/au #I can print the x,y positions in au at each step by uncommenting this line\n",
    "    x_integrated.append(xv0[0])\n",
    "    y_integrated.append(xv0[1])\n",
    "    vx_integrated.append(xv0[2])\n",
    "    vy_integrated.append(xv0[3])\n",
    "    \n",
    "    # new->old and start again \"rinse, lather, repeat!\"\n",
    "    xv0=xv\n",
    "    \n",
    "# Convert our lists to arrays so that we can do math on them\n",
    "x_integrated =  array(x_integrated)\n",
    "y_integrated =  array(y_integrated)\n",
    "vx_integrated = array(vx_integrated)\n",
    "vy_integrated = array(vy_integrated)\n",
    "\n",
    "# plot our previous results from using Kepler's equation... \n",
    "plot(x,y, 'ro')\n",
    "\n",
    "\n",
    "# Now plot our integrated results... \n",
    "# We divide x,y by au to have our plot axes in units of au\n",
    "plot(x_integrated/au, y_integrated/au ,'-')\n",
    "plot(0,0,'o',color='yellow')\n",
    "axis('equal')\n",
    "\n",
    "# NOTICE: This isn't perfect. Try increasing the number of steps \n",
    "# (by decreasing dt...) to show that this converges on the correct solution!"
   ]
  },
  {
   "cell_type": "markdown",
   "metadata": {},
   "source": [
    "Assign the degree of energy conservation $\\Delta E=(E(t)-E_0)/E(t)$ to a color scale, and plot the orbit with 120 points, colored by their $\\Delta E$'s. Include a colorbar to read these values.\n",
    "\n",
    "To do this, create an array $E(t)$ that includes the kinetic and potential energy of the planet-star system. Then create an array $\\Delta E$ which compares to the zero-th element of $E(t)$, $E_0$ in the equation above, or in code, something like: <code>E_integrated[0]</code>.  \n",
    "\n",
    "<pre><code>\n",
    "scatter(x_integrated, y_integrated, c=DeltaE_integrated) \n",
    "colorbar()\n",
    "</pre></code>\n",
    "\n",
    "This code sets the color based on $\\Delta E$, which we've called <code>DeltaE_integrated</code> in the example above. "
   ]
  },
  {
   "cell_type": "code",
   "execution_count": 6,
   "metadata": {
    "collapsed": false
   },
   "outputs": [
    {
     "data": {
      "text/plain": [
       "<matplotlib.text.Text at 0x10b754d90>"
      ]
     },
     "execution_count": 6,
     "metadata": {},
     "output_type": "execute_result"
    },
    {
     "data": {
      "image/png": "[encoded data removed]",
      "text/plain": [
       "<matplotlib.figure.Figure at 0x1045a2890>"
      ]
     },
     "metadata": {},
     "output_type": "display_data"
    }
   ],
   "source": [
    "# define an array of the orbital energy per unit mass\n",
    "# E = 0.5 v**2 - G M_sun / r\n",
    "E_integrated = 0.5*(vx_integrated**2 + vy_integrated**2) - G * msun / sqrt(x_integrated**2 + y_integrated**2)\n",
    "DeltaE_integrated =  (E_integrated-E_integrated[0])/E_integrated[0] \n",
    "\n",
    "scatter(x_integrated/au , y_integrated/au , c=DeltaE_integrated,\n",
    "       edgecolor='') # a little trick to make the markers have no black edge so that we can see the colors better\n",
    "colorbar(label='Fractional Energy Error')\n",
    "axis('equal')\n",
    "\n",
    "# lets add some labels...\n",
    "xlabel('x [AU]')\n",
    "ylabel('y [AU]')"
   ]
  },
  {
   "cell_type": "code",
   "execution_count": 7,
   "metadata": {
    "collapsed": true
   },
   "outputs": [],
   "source": [
    "# What the plot above shows is that most of the error is accrued as the object passes through closest approach \n",
    "# Try doing the integration in the previous step with more timesteps (dt=p/1200., for example) \n",
    "# you should see the fractional energy error go down. \n",
    "# FOR example, if I decrease dt by a factor of 10, I should see the energy error go down by about 10^4 \n",
    "# --> this is the 4th order nature of the solution. It works out. Try it! "
   ]
  },
  {
   "cell_type": "code",
   "execution_count": null,
   "metadata": {
    "collapsed": true
   },
   "outputs": [],
   "source": []
  }
 ],
 "metadata": {
  "kernelspec": {
   "display_name": "Python [Root]",
   "language": "python",
   "name": "Python [Root]"
  },
  "language_info": {
   "codemirror_mode": {
    "name": "ipython",
    "version": 2
   },
   "file_extension": ".py",
   "mimetype": "text/x-python",
   "name": "python",
   "nbconvert_exporter": "python",
   "pygments_lexer": "ipython2",
   "version": "2.7.12"
  }
 },
 "nbformat": 4,
 "nbformat_minor": 0
}
